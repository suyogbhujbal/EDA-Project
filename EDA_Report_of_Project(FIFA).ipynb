{
  "nbformat": 4,
  "nbformat_minor": 0,
  "metadata": {
    "colab": {
      "name": "EDA Report of Project(FIFA).ipynb",
      "provenance": [],
      "collapsed_sections": []
    },
    "kernelspec": {
      "name": "python3",
      "display_name": "Python 3"
    },
    "language_info": {
      "name": "python"
    }
  },
  "cells": [
    {
      "cell_type": "markdown",
      "source": [
        "**Analysis of FIFA Dataset**"
      ],
      "metadata": {
        "id": "sXyHcjQOPkIm"
      }
    },
    {
      "cell_type": "markdown",
      "source": [
        "FIFA is accountable for the business enterprise of football’s fundamental global tournaments, notably the World Cup which started out in 1930 and the Women’s World Cup which started out in 1991."
      ],
      "metadata": {
        "id": "wUoxET5xPytS"
      }
    },
    {
      "cell_type": "markdown",
      "source": [
        "The first World Cup was held in 1930 in Montevideo, Uruguay. The current FIFA flag was first flown during the 2018 FIFA World Cup opening ceremony in Moscow, Russia, and has been used ever since."
      ],
      "metadata": {
        "id": "MQzDtOweQDPF"
      }
    },
    {
      "cell_type": "markdown",
      "source": [
        "**Tools & Libraries**"
      ],
      "metadata": {
        "id": "-4ZkcH4kQNKb"
      }
    },
    {
      "cell_type": "markdown",
      "source": [
        "1.Python , 2.Google Colab , 3.Numpy , 4.Pandas , 5.Seaborn , 6.MatPlotLib , 7.Plotly & Cufflinks"
      ],
      "metadata": {
        "id": "su1wZtiNQSO-"
      }
    },
    {
      "cell_type": "markdown",
      "source": [
        "**Data Description**"
      ],
      "metadata": {
        "id": "d4EtIFC7QZdV"
      }
    },
    {
      "cell_type": "markdown",
      "source": [
        "The Dataset contains many columns but the columns on which the analysis is done are as follows:\n",
        "\n",
        "1.Name : name of the players\n",
        "\n",
        "2.Age : age of the players\n",
        "\n",
        "3.Nationality : nationality of the players\n",
        "\n",
        "4.Potential : potential value of the players\n",
        "\n",
        "5.Club : club through which the player belong\n",
        "\n",
        "6.Value (in €) : value or cost of the players in Euros"
      ],
      "metadata": {
        "id": "hWJELlaYQcUC"
      }
    },
    {
      "cell_type": "markdown",
      "source": [
        "**Data Cleaning**"
      ],
      "metadata": {
        "id": "Dz20bpCOSMq3"
      }
    },
    {
      "cell_type": "markdown",
      "source": [
        "I made the following changes and created the following variables:\n",
        "\n",
        "1.Deleted the columns photo , flag , club logo & unamed : 0 as they were not important for analysis.\n",
        "\n",
        "2.Renamed the columns Value as Value (in €),Wage as Wage(in €),Release Clause as Release Clause(in €).\n",
        "\n",
        "3.Cleaned the value column as it was object data type. Removed the unnecessary markers and converted back to numeric data type.\n",
        "\n",
        "4.Cleaned the wage column as it was object data type. Removed the unnecessary markers and converted back to numeric data type."
      ],
      "metadata": {
        "id": "VgiLHEITSSWm"
      }
    },
    {
      "cell_type": "markdown",
      "source": [
        "**EDA**"
      ],
      "metadata": {
        "id": "DfXIbXXLUZWV"
      }
    },
    {
      "cell_type": "markdown",
      "source": [
        "Below are few Highlights of Analysis:\n",
        "\n",
        "1.High Number of Players in club\n",
        "\n",
        "2.Top 10 Country mostly involved in FIFA\n",
        "\n",
        "3.Expensive Players in FIFA\n",
        "\n",
        "4.Best Average Value Players\n",
        "\n",
        "5.Count of Best Players per Country\n",
        "\n",
        "6.Best Players by Value and Nationality"
      ],
      "metadata": {
        "id": "l4XrIu3FUeZt"
      }
    }
  ]
}